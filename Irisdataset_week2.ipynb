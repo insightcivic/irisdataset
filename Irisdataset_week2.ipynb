{
 "cells": [
  {
   "cell_type": "markdown",
   "id": "afca5e63-0880-4ce7-9753-2008c1a2b2a7",
   "metadata": {},
   "source": [
    "# Week 2 Statistical Foundations in Data Processing\n",
    "\n",
    "## Descriptive Statistics\n",
    "\n",
    "#### Mean"
   ]
  },
  {
   "cell_type": "code",
   "execution_count": 4,
   "id": "ce3d1740-6334-4f9d-a230-0f96fb5c7df1",
   "metadata": {},
   "outputs": [
    {
     "name": "stdout",
     "output_type": "stream",
     "text": [
      "Mean Sepal Length: 5.84\n",
      "Mean Sepal Width: 3.05\n",
      "Mean Petal Length: 3.76\n",
      "Mean Petal Width: 1.20\n"
     ]
    }
   ],
   "source": [
    "import numpy as np\n",
    "import pandas as pd\n",
    "\n",
    "# Load the Iris dataset\n",
    "\n",
    "url = 'iris.csv'  # Change this to the path of your downloaded file\n",
    "column_names = ['sepal_length', 'sepal_width', 'petal_length', 'petal_width', 'class']\n",
    "iris_data = pd.read_csv(url, header=None, names=column_names)\n",
    "\n",
    "# Calculate the mean for each feature\n",
    "mean_sepal_length = np.mean(iris_data['sepal_length'])\n",
    "mean_sepal_width = np.mean(iris_data['sepal_width'])\n",
    "mean_petal_length = np.mean(iris_data['petal_length'])\n",
    "mean_petal_width = np.mean(iris_data['petal_width'])\n",
    "\n",
    "print(f\"Mean Sepal Length: {mean_sepal_length:.2f}\")\n",
    "print(f\"Mean Sepal Width: {mean_sepal_width:.2f}\")\n",
    "print(f\"Mean Petal Length: {mean_petal_length:.2f}\")\n",
    "print(f\"Mean Petal Width: {mean_petal_width:.2f}\")\n"
   ]
  },
  {
   "cell_type": "code",
   "execution_count": 5,
   "id": "4bd378b3-2df4-4031-ac5d-8fbc4db26b25",
   "metadata": {},
   "outputs": [
    {
     "name": "stdout",
     "output_type": "stream",
     "text": [
      "Median Sepal Length: 5.80\n",
      "Median Sepal Width: 3.00\n",
      "Median Petal Length: 4.35\n",
      "Median Petal Width: 1.30\n"
     ]
    }
   ],
   "source": [
    "# Calculate the median for each feature\n",
    "median_sepal_length = np.median(iris_data['sepal_length'])\n",
    "median_sepal_width = np.median(iris_data['sepal_width'])\n",
    "median_petal_length = np.median(iris_data['petal_length'])\n",
    "median_petal_width = np.median(iris_data['petal_width'])\n",
    "\n",
    "print(f\"Median Sepal Length: {median_sepal_length:.2f}\")\n",
    "print(f\"Median Sepal Width: {median_sepal_width:.2f}\")\n",
    "print(f\"Median Petal Length: {median_petal_length:.2f}\")\n",
    "print(f\"Median Petal Width: {median_petal_width:.2f}\")\n"
   ]
  },
  {
   "cell_type": "code",
   "execution_count": null,
   "id": "6a790bae-53bc-4464-b00d-58feca4abc24",
   "metadata": {},
   "outputs": [],
   "source": [
    "# Determine the mode for each feature\n",
    "mode_sepal_length = iris_data['sepal_length'].mode()\n",
    "mode_sepal_width = iris_data['sepal_width'].mode()\n",
    "mode_petal_length = iris_data['petal_length'].mode()\n",
    "mode_petal_width = iris_data['petal_width'].mode()\n",
    "\n",
    "print(f\"Mode Sepal Length: {mode_sepal_length.values}\")\n",
    "print(f\"Mode Sepal Width: {mode_sepal_width.values}\")\n",
    "print(f\"Mode Petal Length: {mode_petal_length.values}\")\n",
    "print(f\"Mode Petal Width: {mode_petal_width.values}\")\n"
   ]
  },
  {
   "cell_type": "code",
   "execution_count": 6,
   "id": "e8bf7416-df04-4114-842b-9fad71e5e3a1",
   "metadata": {},
   "outputs": [
    {
     "name": "stdout",
     "output_type": "stream",
     "text": [
      "Range Sepal Length: 3.60\n",
      "Range Sepal Width: 2.40\n",
      "Range Petal Length: 5.90\n",
      "Range Petal Width: 2.40\n"
     ]
    }
   ],
   "source": [
    "# Calculate the range for each feature\n",
    "range_sepal_length = np.max(iris_data['sepal_length']) - np.min(iris_data['sepal_length'])\n",
    "range_sepal_width = np.max(iris_data['sepal_width']) - np.min(iris_data['sepal_width'])\n",
    "range_petal_length = np.max(iris_data['petal_length']) - np.min(iris_data['petal_length'])\n",
    "range_petal_width = np.max(iris_data['petal_width']) - np.min(iris_data['petal_width'])\n",
    "\n",
    "print(f\"Range Sepal Length: {range_sepal_length:.2f}\")\n",
    "print(f\"Range Sepal Width: {range_sepal_width:.2f}\")\n",
    "print(f\"Range Petal Length: {range_petal_length:.2f}\")\n",
    "print(f\"Range Petal Width: {range_petal_width:.2f}\")\n"
   ]
  },
  {
   "cell_type": "code",
   "execution_count": 7,
   "id": "14b4e722-1501-4e46-933c-179e4db24e98",
   "metadata": {},
   "outputs": [
    {
     "name": "stdout",
     "output_type": "stream",
     "text": [
      "Variance Sepal Length: 0.68\n",
      "Variance Sepal Width: 0.19\n",
      "Variance Petal Length: 3.09\n",
      "Variance Petal Width: 0.58\n"
     ]
    }
   ],
   "source": [
    "# Calculate the variance for each feature\n",
    "variance_sepal_length = np.var(iris_data['sepal_length'])\n",
    "variance_sepal_width = np.var(iris_data['sepal_width'])\n",
    "variance_petal_length = np.var(iris_data['petal_length'])\n",
    "variance_petal_width = np.var(iris_data['petal_width'])\n",
    "\n",
    "print(f\"Variance Sepal Length: {variance_sepal_length:.2f}\")\n",
    "print(f\"Variance Sepal Width: {variance_sepal_width:.2f}\")\n",
    "print(f\"Variance Petal Length: {variance_petal_length:.2f}\")\n",
    "print(f\"Variance Petal Width: {variance_petal_width:.2f}\")\n"
   ]
  },
  {
   "cell_type": "code",
   "execution_count": 8,
   "id": "7edbab74-de20-49dd-8f5a-cda07d8c8a60",
   "metadata": {},
   "outputs": [
    {
     "name": "stdout",
     "output_type": "stream",
     "text": [
      "Standard Deviation Sepal Length: 0.83\n",
      "Standard Deviation Sepal Width: 0.43\n",
      "Standard Deviation Petal Length: 1.76\n",
      "Standard Deviation Petal Width: 0.76\n"
     ]
    }
   ],
   "source": [
    "# Calculate the standard deviation for each feature\n",
    "std_sepal_length = np.std(iris_data['sepal_length'])\n",
    "std_sepal_width = np.std(iris_data['sepal_width'])\n",
    "std_petal_length = np.std(iris_data['petal_length'])\n",
    "std_petal_width = np.std(iris_data['petal_width'])\n",
    "\n",
    "print(f\"Standard Deviation Sepal Length: {std_sepal_length:.2f}\")\n",
    "print(f\"Standard Deviation Sepal Width: {std_sepal_width:.2f}\")\n",
    "print(f\"Standard Deviation Petal Length: {std_petal_length:.2f}\")\n",
    "print(f\"Standard Deviation Petal Width: {std_petal_width:.2f}\")\n"
   ]
  },
  {
   "cell_type": "code",
   "execution_count": null,
   "id": "413b6653-f5b4-45c9-a1e6-fdc2ef67f0a3",
   "metadata": {},
   "outputs": [],
   "source": []
  }
 ],
 "metadata": {
  "kernelspec": {
   "display_name": "Python 3 (ipykernel)",
   "language": "python",
   "name": "python3"
  },
  "language_info": {
   "codemirror_mode": {
    "name": "ipython",
    "version": 3
   },
   "file_extension": ".py",
   "mimetype": "text/x-python",
   "name": "python",
   "nbconvert_exporter": "python",
   "pygments_lexer": "ipython3",
   "version": "3.10.14"
  }
 },
 "nbformat": 4,
 "nbformat_minor": 5
}
